{
 "cells": [
  {
   "cell_type": "markdown",
   "id": "c7b9fee7",
   "metadata": {
    "tags": []
   },
   "source": [
    "# Use Sagemaker to use Optimization Libraries\n",
    "We will test ecerithing using a local endpoint and will use SKLearn container as starting point to run optimization algorithm.  \n",
    "The first step is to set-up the evironment importing required libraries and defining a bucket to host our model data."
   ]
  },
  {
   "cell_type": "code",
   "execution_count": 2,
   "id": "81fe6c07",
   "metadata": {},
   "outputs": [],
   "source": [
    "import boto3\n",
    "import numpy as np\n",
    "import sagemaker\n",
    "\n",
    "from sagemaker import get_execution_role\n",
    "\n",
    "sagemaker_session = sagemaker.Session()\n",
    "\n",
    "# Get a SageMaker-compatible role used by this Notebook Instance.\n",
    "role = get_execution_role()\n",
    "\n",
    "bucket = sagemaker_session.default_bucket()\n",
    "prefix = \"blogpost_location_service\"\n",
    "\n",
    "my_session = boto3.session.Session()\n",
    "my_region = my_session.region_name"
   ]
  },
  {
   "cell_type": "markdown",
   "id": "0b4b16c0",
   "metadata": {},
   "source": [
    "## Build a Sagemaker Model based on SKLearn\n",
    "To test the algorithm we will use a standard SKLearn container providing information about the script that we would like to run (scripts-or-tools/algorithm.py) and additional libraries that shall be installed in order to be able to execute the script (scripts-or-tools/requirements.txt).\n",
    "The key part of our script are:\n",
    "- **__main__** - this is run during the training phase\n",
    "- **model_fn** - executed during endpoint deployment start-up phase to load weight related to trained model\n",
    "- **input_fn** - executed everitime inference method is invoked to adapt input data format to expected model format\n",
    "- **predict_fn** - executes the inference here we use or-tools library in order to solve our Capacity Constrained Vehicle Routing Problem\n",
    "- **output_fn** - executed right after the inference to adapt inference output data to expected output format that shall be returned to the caller.  \n",
    "  \n",
    "In this specific example since the optimization algorithm doesn't need a training phase we fill in the main function to generate dummy training data and the model_fn fucntion to load dummy training data.\n",
    "\n",
    "Below you can see the detailed content of algorithm.py"
   ]
  },
  {
   "cell_type": "code",
   "execution_count": 3,
   "id": "3b416974",
   "metadata": {
    "scrolled": true
   },
   "outputs": [
    {
     "name": "stdout",
     "output_type": "stream",
     "text": [
      "from __future__ import print_function\n",
      "\n",
      "import csv\n",
      "import json\n",
      "import numpy as np\n",
      "import pandas as pd\n",
      "import boto3\n",
      "\n",
      "import os\n",
      "import argparse\n",
      "\n",
      "from ortools.constraint_solver import routing_enums_pb2\n",
      "from ortools.constraint_solver import pywrapcp\n",
      "\n",
      "from sagemaker_containers.beta.framework import (\n",
      "    content_types, encoders, env, modules, transformer, worker)\n",
      "    \n",
      "\n",
      "    \n",
      "#####\n",
      "#Sagemaker interface\n",
      "#####\n",
      "def model_fn (model_dir):\n",
      "    print (\"ModelFN\")\n",
      "    return (\"DUMMY MODEL\")\n",
      "\n",
      "def input_fn(input_data, content_type):\n",
      "    \"\"\"Parse input data payload\n",
      "\n",
      "    We currently only take csv input. Since we need to process both labelled\n",
      "    and unlabelled data we first determine whether the label column is present\n",
      "    by looking at how many columns were provided.\n",
      "    \"\"\"\n",
      "    print (\"InputFN\")\n",
      "    print (\"content_type:\",content_type)\n",
      "    print (\"input_data:\",input_data)\n",
      "    if content_type == 'application/json':\n",
      "        # Read the raw input data as CSV.\n",
      "        list=json.loads(input_data)\n",
      "        #Catching multiple nested json to string encapsulation \n",
      "        if (type(list)==str):\n",
      "            list=json.loads(input_data)\n",
      "        if (type(list)==str):\n",
      "            list=json.loads(input_data)\n",
      "        return list\n",
      "    else:\n",
      "        raise ValueError(\"{} not supported by script!\".format(content_type))\n",
      "\n",
      "\n",
      "def output_fn(prediction, accept):\n",
      "    \"\"\"Format prediction output\n",
      "\n",
      "    The default accept/content-type between containers for serial inference is JSON.\n",
      "    We also want to set the ContentType or mimetype as the same value as accept so the next\n",
      "    container can read the response payload correctly.\n",
      "    \"\"\"\n",
      "    if accept == \"application/json\":\n",
      " \n",
      "        if prediction['result']!='NOT FOUND':\n",
      "            data=prediction['data']\n",
      "            manager=prediction['manager']\n",
      "            routing=prediction['routing']\n",
      "            solution=prediction['solution']\n",
      "\n",
      "            \"\"\"Prints solution on console.\"\"\"\n",
      "            routes=[]\n",
      "            print(f'Objective: {solution.ObjectiveValue()}')\n",
      "            max_route_distance = 0\n",
      "            for vehicle_id in range(data['num_vehicles']):\n",
      "                index = routing.Start(vehicle_id)\n",
      "                plan_output = 'Route for vehicle {}:\\n'.format(vehicle_id)\n",
      "                route_distance = 0\n",
      "                route=[]\n",
      "                while not routing.IsEnd(index):\n",
      "                    plan_output += ' {} -> '.format(manager.IndexToNode(index))\n",
      "                    route.append(manager.IndexToNode(index))\n",
      "                    previous_index = index\n",
      "                    index = solution.Value(routing.NextVar(index))\n",
      "                    route_distance += routing.GetArcCostForVehicle(\n",
      "                        previous_index, index, vehicle_id)\n",
      "\n",
      "                plan_output += '{}\\n'.format(manager.IndexToNode(index))\n",
      "                route.append(manager.IndexToNode(index))\n",
      "                plan_output += 'Distance of the route: {}m\\n'.format(route_distance)\n",
      "                print(plan_output)\n",
      "                routes.append(route)\n",
      "                max_route_distance = max(route_distance, max_route_distance)\n",
      "            print('Maximum of the route distances: {}m'.format(max_route_distance))\n",
      "        else:\n",
      "            routes='NOT FOUND'\n",
      "        return (json.dumps(routes))\n",
      "\n",
      "    else:\n",
      "        raise RuntimeException(\"{} accept type is not supported by this script.\".format(accept))\n",
      "\n",
      "def predict_fn(input_data, model):\n",
      "    \"\"\"Preprocess input data\n",
      "\n",
      "    We implement this because the default predict_fn uses .predict(), but our model is a preprocessor\n",
      "    so we want to use .transform().\n",
      "\n",
      "    The output is returned in the following order:\n",
      "\n",
      "        rest of features either one hot encoded or standardized\n",
      "    \"\"\"\n",
      "    # Create the routing index manager.\n",
      "    manager = pywrapcp.RoutingIndexManager(len(input_data['distance_matrix']),\n",
      "                                           input_data['num_vehicles'], input_data['depot'])\n",
      "\n",
      "    # Create Routing Model.\n",
      "    routing = pywrapcp.RoutingModel(manager)\n",
      "\n",
      "    # Create and register a transit callback.\n",
      "    def distance_callback(from_index, to_index):\n",
      "        \"\"\"Returns the distance between the two nodes.\"\"\"\n",
      "        # Convert from routing variable Index to distance matrix NodeIndex.\n",
      "        from_node = manager.IndexToNode(from_index)\n",
      "        to_node = manager.IndexToNode(to_index)\n",
      "        return input_data['distance_matrix'][from_node][to_node]\n",
      "\n",
      "    transit_callback_index = routing.RegisterTransitCallback(distance_callback)\n",
      "\n",
      "    # Define cost of each arc.\n",
      "    routing.SetArcCostEvaluatorOfAllVehicles(transit_callback_index)\n",
      "    \n",
      "    # Create and register a demand callback.\n",
      "    def demand_callback(from_index):\n",
      "        \"\"\"Returns the demand of the node.\"\"\"\n",
      "        # Convert from routing variable Index to demands NodeIndex.\n",
      "        from_node = manager.IndexToNode(from_index)\n",
      "        #Consume a slot\n",
      "        return 1\n",
      "\n",
      "    demand_callback_index = routing.RegisterUnaryTransitCallback(demand_callback)\n",
      "\n",
      "    routing.AddDimensionWithVehicleCapacity(\n",
      "        demand_callback_index,\n",
      "        0,  # null capacity slack\n",
      "        input_data['vehicle_capacities'],  # vehicle maximum capacities\n",
      "        True,  # start cumul to zero\n",
      "        'Capacity')\n",
      "\n",
      "\n",
      "\n",
      "    # Add Distance constraint.\n",
      "    dimension_name = 'Distance'\n",
      "    routing.AddDimension(\n",
      "        transit_callback_index,\n",
      "        0,  # no slack\n",
      "        3000,  # vehicle maximum travel distance\n",
      "        True,  # start cumul to zero\n",
      "        dimension_name)\n",
      "    distance_dimension = routing.GetDimensionOrDie(dimension_name)\n",
      "    distance_dimension.SetGlobalSpanCostCoefficient(5000)\n",
      "\n",
      "    # Setting first solution heuristic.\n",
      "    search_parameters = pywrapcp.DefaultRoutingSearchParameters()\n",
      "    search_parameters.first_solution_strategy = (\n",
      "        routing_enums_pb2.FirstSolutionStrategy.PATH_CHEAPEST_ARC)\n",
      "\n",
      "    search_parameters.local_search_metaheuristic = (\n",
      "        routing_enums_pb2.LocalSearchMetaheuristic.GUIDED_LOCAL_SEARCH)\n",
      "    search_parameters.time_limit.FromSeconds(10)\n",
      "\n",
      "\n",
      "    # Solve the problem.\n",
      "    solution = routing.SolveWithParameters(search_parameters)\n",
      "    if solution:\n",
      "        prediction={\n",
      "            'data':input_data,\n",
      "            'manager':manager,\n",
      "            'routing':routing,\n",
      "            'solution':solution,\n",
      "            'result':'OK'\n",
      "        }\n",
      "    else:\n",
      "        prediction={'result':'NOT FOUND'}\n",
      "    return prediction\n",
      "\n",
      "\n",
      "##Dummy Training Function\n",
      "\n",
      "if __name__ == '__main__':\n",
      "\n",
      "    # Sagemaker specific arguments. Defaults are set in the environment variables.    \n",
      "    parser = argparse.ArgumentParser()\n",
      "\n",
      "    parser.add_argument('--model-dir', type=str, default=os.environ['SM_MODEL_DIR'])\n",
      "\n",
      "    args = parser.parse_args()\n",
      "    \n",
      "    \n",
      "    with open( os.path.join(args.model_dir, \"model.data\"), 'w') as f:\n",
      "        f.write('ok')\n",
      "        f.close()\n",
      "    print(\"mode saved!\")\n",
      "    \n"
     ]
    }
   ],
   "source": [
    "!cat scripts-or-tools/algorithm.py"
   ]
  },
  {
   "cell_type": "markdown",
   "id": "46d88634",
   "metadata": {},
   "source": [
    "We can build a dummi model.tar.gz locally, save it in an s3 bucket and use this one to build our SKLearn model."
   ]
  },
  {
   "cell_type": "code",
   "execution_count": 4,
   "id": "daec1ad9-71da-4229-ace6-53da6bc4953d",
   "metadata": {},
   "outputs": [
    {
     "name": "stdout",
     "output_type": "stream",
     "text": [
      "./dummy.ok\n",
      "upload: ./model.tar.gz to s3://sagemaker-eu-west-1-113878695749/blogpost_location_service/20221021-155050/model.tar.gz\n",
      "Data saved to: s3://sagemaker-eu-west-1-113878695749/blogpost_location_service/20221021-155050\n"
     ]
    }
   ],
   "source": [
    "from datetime import datetime\n",
    "timestamp = datetime.now().strftime(\"%Y%m%d-%H%M%S\")\n",
    "!rm model.tar.gz\n",
    "!touch dummy.ok; tar -czvf model.tar.gz ./dummy.ok\n",
    "!aws s3 cp model.tar.gz s3://{bucket}/{prefix}/{timestamp}/model.tar.gz\n",
    "print (f\"Data saved to: s3://{bucket}/{prefix}/{timestamp}\")"
   ]
  },
  {
   "cell_type": "markdown",
   "id": "fa94dfe0-3be1-46ae-98b0-6e699068865f",
   "metadata": {},
   "source": [
    "We are now ready to use SKLearnModel passing information about our local scripts and dummy model.tar.gz file. "
   ]
  },
  {
   "cell_type": "code",
   "execution_count": 5,
   "id": "31d381ce-0f12-4cf6-9082-b1d6e6fcc490",
   "metadata": {},
   "outputs": [],
   "source": [
    "from  sagemaker.sklearn.model import SKLearnModel\n",
    "modelName=f\"RouteOptimiser-{timestamp}\"\n",
    "sklearn_preprocessor = SKLearnModel(\n",
    "    role=role,\n",
    "    predictor_cls  = sagemaker.predictor.Predictor,\n",
    "    sagemaker_session = sagemaker_session,\n",
    "    name=modelName,\n",
    "    model_data=f\"s3://{bucket}/{prefix}/{timestamp}/model.tar.gz\",\n",
    "    source_dir = 'scripts-or-tools',\n",
    "    entry_point= 'algorithm.py',\n",
    "    framework_version ='0.23-1'\n",
    ")"
   ]
  },
  {
   "cell_type": "markdown",
   "id": "e2b02136",
   "metadata": {},
   "source": [
    "## Model Deploy\n",
    "We can now deploy our model to accepts json as input and output format on a serverless endpoint defining a serverless inference config in order to specify the memory that should be allocated to run our optimization algorithm and a maximum concurrency."
   ]
  },
  {
   "cell_type": "code",
   "execution_count": 6,
   "id": "fc3c59fd-48d3-41b6-991b-32ccfaffcc00",
   "metadata": {},
   "outputs": [
    {
     "name": "stdout",
     "output_type": "stream",
     "text": [
      "-----!"
     ]
    }
   ],
   "source": [
    "from sagemaker.serverless import ServerlessInferenceConfig\n",
    "from sagemaker.serializers import JSONSerializer\n",
    "from sagemaker.deserializers import JSONDeserializer\n",
    "\n",
    "# Create an empty ServerlessInferenceConfig object to use default values\n",
    "serverless_config =  ServerlessInferenceConfig(\n",
    "          memory_size_in_mb=4096,\n",
    "          max_concurrency=10)\n",
    "\n",
    "predictor=sklearn_preprocessor.deploy(\n",
    "    serverless_inference_config=serverless_config,\n",
    "    serializer=JSONSerializer(content_type='application/json'),\n",
    "    deserializer=JSONDeserializer(accept='application/json'))\n"
   ]
  },
  {
   "cell_type": "code",
   "execution_count": null,
   "id": "e9f1bc29",
   "metadata": {
    "scrolled": true
   },
   "outputs": [],
   "source": []
  },
  {
   "cell_type": "markdown",
   "id": "5df9c02c",
   "metadata": {},
   "source": [
    "## Now we are Ready for Testing\n",
    "To run a full test of the optimization algorithm we would like to start from some ponts on a map, I select for this test some points in a area of Rome full of oneway streets to see which is the result."
   ]
  },
  {
   "cell_type": "markdown",
   "id": "afbb6103-45e1-4371-9e7c-3cd256a80438",
   "metadata": {},
   "source": [
    "In order to be able to use location services we need to retrieve the name of the instances that cloudformation has created for us.\n",
    "Please configure the name of the cloudformation template you executed to set-up the environmetn"
   ]
  },
  {
   "cell_type": "code",
   "execution_count": 8,
   "id": "f109ad14-630a-444f-a8f4-512b43fad955",
   "metadata": {},
   "outputs": [
    {
     "data": {
      "text/plain": [
       "'CREATE_COMPLETE'"
      ]
     },
     "execution_count": 8,
     "metadata": {},
     "output_type": "execute_result"
    }
   ],
   "source": [
    "import time\n",
    "cf=boto3.client ('cloudformation')\n",
    "stackName='LocationServiceDemo'\n",
    "response = cf.describe_stacks( StackName=stackName) \n",
    "\n",
    "while response['Stacks'][0]['StackStatus'] == 'CREATE_IN_PROGRESS':\n",
    "    time.sleep(10)\n",
    "    response = cf.describe_stacks( StackName=stackName) \n",
    "    print (response['Stacks'][0]['StackStatus'])\n",
    "response['Stacks'][0]['StackStatus']   "
   ]
  },
  {
   "cell_type": "code",
   "execution_count": 9,
   "id": "14e9d82e-f40d-4932-bc9c-67d389ffb5bf",
   "metadata": {},
   "outputs": [],
   "source": [
    "for output in response['Stacks'][0]['Outputs']:\n",
    "    if output['OutputKey']=='CalculatorName':\n",
    "        locationCalculatorName=output['OutputValue']\n",
    "    if output['OutputKey']=='MapName':\n",
    "        locationMapName=output['OutputValue']"
   ]
  },
  {
   "cell_type": "markdown",
   "id": "ec898a5a",
   "metadata": {},
   "source": [
    "Define a list of points, the first is the starting and the ending point of te garbage collection route, the other points are where garbage bins are located"
   ]
  },
  {
   "cell_type": "code",
   "execution_count": 10,
   "id": "7a45b383",
   "metadata": {},
   "outputs": [],
   "source": [
    "PointOfInterest=[\n",
    "    [12.461333,41.906652 ], #via Properzio -oneway\n",
    "    [12.462247,41.906664 ], #via Tibullo - oneway\n",
    "    [12.463036,41.906764 ], #via Terenzio - oneway\n",
    "    [12.460591,41.906862 ]  #via Cola Di Rienzo 2-ways\n",
    "]"
   ]
  },
  {
   "cell_type": "markdown",
   "id": "b830bf66",
   "metadata": {},
   "source": [
    "Generate Route Matrix to be used by optimization algorith leveraging AWS Location Services.\n",
    "Set-up contrstaints in order to be able to find routes allowed for garbage trucks (size and weight)."
   ]
  },
  {
   "cell_type": "code",
   "execution_count": 12,
   "id": "25bebfbd",
   "metadata": {},
   "outputs": [],
   "source": [
    "location=boto3.client('location')\n",
    "response=location.calculate_route_matrix(\n",
    "  CalculatorName= locationCalculatorName,\n",
    "  DepartNow= True,\n",
    "  DistanceUnit= \"Kilometers\",\n",
    "  TravelMode= \"Truck\",\n",
    "  TruckModeOptions= {\n",
    "    'AvoidFerries': True,\n",
    "    'AvoidTolls': True,\n",
    "    'Dimensions': {\n",
    "      'Height': 3.5,\n",
    "      'Length': 4.95,\n",
    "      'Unit': \"Meters\",\n",
    "      'Width': 1.9,\n",
    "    },\n",
    "    'Weight': {\n",
    "      'Total': 4500,\n",
    "      'Unit': \"Kilograms\",\n",
    "    },\n",
    "   },\n",
    "  DeparturePositions=PointOfInterest,\n",
    "  DestinationPositions=PointOfInterest)\n"
   ]
  },
  {
   "cell_type": "markdown",
   "id": "eaa72e8c",
   "metadata": {},
   "source": [
    "Fill in the Distance matrix with the information returned by Amazon Location service calculate_route_matrix and store in a numpy matrix"
   ]
  },
  {
   "cell_type": "code",
   "execution_count": 13,
   "id": "e994c697",
   "metadata": {},
   "outputs": [
    {
     "data": {
      "text/plain": [
       "array([[0.   , 0.812, 0.731, 0.679],\n",
       "       [0.824, 0.   , 0.674, 0.622],\n",
       "       [0.787, 0.718, 0.   , 0.263],\n",
       "       [0.88 , 0.837, 0.756, 0.   ]])"
      ]
     },
     "execution_count": 13,
     "metadata": {},
     "output_type": "execute_result"
    }
   ],
   "source": [
    "DistanceMatrix=np.zeros((len(response['RouteMatrix']),len(response['RouteMatrix'][0])))\n",
    "for i in range (0,len(response['RouteMatrix'])):\n",
    "    for j in range (0,len(response['RouteMatrix'][i])):\n",
    "        DistanceMatrix[i][j]=response['RouteMatrix'][i][j]['Distance']\n",
    "        \n",
    "DistanceMatrix"
   ]
  },
  {
   "cell_type": "markdown",
   "id": "d6dcc822",
   "metadata": {},
   "source": [
    "Distance Matrix is Asymmetric to reflect that some points are in one-way roads. \n",
    "\n",
    "## Prepare data for Optimization Algorithm\n",
    "Prepare data structure to submit problem to solver:\n",
    "- distance_matrix contains the distance matrix\n",
    "- num_vehicles contains the number of trucks I can have to collect trash\n",
    "- depot is the item in the instance matrix that is the depot (start and end point of the trash collection cycle)\n",
    "- vehicle_capacities is an array that specify the capacity (number of trash bins that can be collected before the truck becomes full) for each truck in the fleet\n"
   ]
  },
  {
   "cell_type": "code",
   "execution_count": 14,
   "id": "da8d33cc",
   "metadata": {},
   "outputs": [
    {
     "name": "stdout",
     "output_type": "stream",
     "text": [
      "CPU times: user 15 ms, sys: 15 µs, total: 15 ms\n",
      "Wall time: 16.6 s\n"
     ]
    },
    {
     "data": {
      "text/plain": [
       "[[0, 3, 2, 1, 0]]"
      ]
     },
     "execution_count": 14,
     "metadata": {},
     "output_type": "execute_result"
    }
   ],
   "source": [
    "%%time\n",
    "data = {}\n",
    "data['distance_matrix'] = DistanceMatrix.tolist()\n",
    "data['num_vehicles'] = 1\n",
    "data['depot'] = 0\n",
    "data['vehicle_capacities']=[20]\n",
    "\n"
   ]
  },
  {
   "cell_type": "markdown",
   "id": "36fa5742-f640-4b95-b540-2181d2e45a04",
   "metadata": {},
   "source": [
    "Now we are ready to call the solver"
   ]
  },
  {
   "cell_type": "code",
   "execution_count": 24,
   "id": "4e16378d-b678-4947-b913-bd050c15cfc2",
   "metadata": {},
   "outputs": [
    {
     "data": {
      "text/plain": [
       "[[0, 3, 2, 1, 0]]"
      ]
     },
     "execution_count": 24,
     "metadata": {},
     "output_type": "execute_result"
    }
   ],
   "source": [
    "prediction_result=predictor.predict (data)\n",
    "\n",
    "prediction_result"
   ]
  },
  {
   "cell_type": "markdown",
   "id": "0bc794d1",
   "metadata": {},
   "source": [
    "Result contains an ordered list of the edges that the truck has to go through.\n",
    "Now we want to convert back edge indexes to geo referenced points"
   ]
  },
  {
   "cell_type": "code",
   "execution_count": 15,
   "id": "eb155929",
   "metadata": {},
   "outputs": [
    {
     "data": {
      "text/plain": [
       "[[12.460591, 41.906862], [12.463036, 41.906764], [12.462247, 41.906664]]"
      ]
     },
     "execution_count": 15,
     "metadata": {},
     "output_type": "execute_result"
    }
   ],
   "source": [
    "optimized_path=prediction_result[0]\n",
    "WayPoints=[]\n",
    "#loop on points skipping first and last\n",
    "for i in range (1,len(optimized_path)-1):\n",
    "    WayPoints.append(PointOfInterest[optimized_path[i]])\n",
    "    \n",
    "WayPoints    "
   ]
  },
  {
   "cell_type": "markdown",
   "id": "5617311b",
   "metadata": {},
   "source": [
    "## Plot route on a map"
   ]
  },
  {
   "cell_type": "markdown",
   "id": "bdb0d5ad",
   "metadata": {},
   "source": [
    "Use AWS Location service to extract routes details used to draw the route on a map leveraing IncludeLegGeometry feature available in Amazon Location Service calculate_route method. \n",
    "\n",
    "We provede start and end route points and all trash bin point in the same order as returned by the optimization algorithm. \n",
    "We also provide additional informatin about the type of vehicle (\"Truck\") and its size in order to retrieve the correct path and avoid ruoutes that are not matching this requirement."
   ]
  },
  {
   "cell_type": "code",
   "execution_count": 17,
   "id": "b44f5742",
   "metadata": {},
   "outputs": [],
   "source": [
    "response = location.calculate_route(\n",
    "    CalculatorName= locationCalculatorName,\n",
    "    DepartNow=True,\n",
    "    DeparturePosition=PointOfInterest[optimized_path[0]],  #Start and Endpoint are the same\n",
    "    DestinationPosition=PointOfInterest[optimized_path[0]],\n",
    "    DistanceUnit='Kilometers',\n",
    "    IncludeLegGeometry=True,  # Ask location services to break down the route in segmets that can be easily print on a map\n",
    "   TravelMode='Truck',\n",
    "    TruckModeOptions= {\n",
    "   'AvoidFerries': True,\n",
    "   'AvoidTolls': True,\n",
    "   'Dimensions': {\n",
    "     'Height': 3.5,\n",
    "     'Length': 4.95,\n",
    "     'Unit': \"Meters\",\n",
    "     'Width': 1.9,\n",
    "   },\n",
    "   'Weight': {\n",
    "     'Total': 4500,\n",
    "     'Unit': \"Kilograms\",\n",
    "   },\n",
    "  },\n",
    "    WaypointPositions=WayPoints  # Ordered list of the trash bin to be collected as returned by the optimizer\n",
    ")"
   ]
  },
  {
   "cell_type": "markdown",
   "id": "15e3e5fb",
   "metadata": {},
   "source": [
    "The response contains a Geometry element including the information about all legs buildling the full route."
   ]
  },
  {
   "cell_type": "code",
   "execution_count": 18,
   "id": "e8ab8156",
   "metadata": {
    "scrolled": true
   },
   "outputs": [
    {
     "data": {
      "text/plain": [
       "{'ResponseMetadata': {'RequestId': '9a4947e7-70aa-44e6-b68e-7dff25f0df08',\n",
       "  'HTTPStatusCode': 200,\n",
       "  'HTTPHeaders': {'date': 'Fri, 21 Oct 2022 16:14:55 GMT',\n",
       "   'content-type': 'application/json',\n",
       "   'content-length': '5693',\n",
       "   'connection': 'keep-alive',\n",
       "   'x-amzn-requestid': '9a4947e7-70aa-44e6-b68e-7dff25f0df08',\n",
       "   'access-control-allow-origin': '*',\n",
       "   'x-amz-apigw-id': 'aXPMBHJiDoEFRRg=',\n",
       "   'access-control-expose-headers': 'x-amzn-errortype,x-amzn-requestid,x-amzn-errormessage,x-amzn-trace-id,x-amz-apigw-id,date',\n",
       "   'x-amzn-trace-id': 'Root=1-6352c57f-10426ac201d6beda14d31cfc'},\n",
       "  'RetryAttempts': 0},\n",
       " 'Legs': [{'Distance': 0.679,\n",
       "   'DurationSeconds': 230,\n",
       "   'EndPosition': [12.4605994, 41.9068425],\n",
       "   'Geometry': {'LineString': [[12.461333, 41.906652],\n",
       "     [12.46137, 41.90703],\n",
       "     [12.46179, 41.90714],\n",
       "     [12.46229, 41.90726],\n",
       "     [12.46278, 41.90738],\n",
       "     [12.4633, 41.90751],\n",
       "     [12.46394, 41.90767],\n",
       "     [12.46419, 41.90715],\n",
       "     [12.46368, 41.90705],\n",
       "     [12.46296, 41.90692],\n",
       "     [12.46278, 41.90738],\n",
       "     [12.46229, 41.90726],\n",
       "     [12.46179, 41.90714],\n",
       "     [12.46137, 41.90703],\n",
       "     [12.461, 41.90694],\n",
       "     [12.460599, 41.906843]]},\n",
       "   'StartPosition': [12.4613328, 41.9066519],\n",
       "   'Steps': [{'Distance': 0.042,\n",
       "     'DurationSeconds': 22,\n",
       "     'EndPosition': [12.46137, 41.90703],\n",
       "     'GeometryOffset': 0,\n",
       "     'StartPosition': [12.461333, 41.906652]},\n",
       "    {'Distance': 0.226,\n",
       "     'DurationSeconds': 81,\n",
       "     'EndPosition': [12.46394, 41.90767],\n",
       "     'GeometryOffset': 1,\n",
       "     'StartPosition': [12.46137, 41.90703]},\n",
       "    {'Distance': 0.061,\n",
       "     'DurationSeconds': 18,\n",
       "     'EndPosition': [12.46419, 41.90715],\n",
       "     'GeometryOffset': 6,\n",
       "     'StartPosition': [12.46394, 41.90767]},\n",
       "    {'Distance': 0.106,\n",
       "     'DurationSeconds': 35,\n",
       "     'EndPosition': [12.46296, 41.90692],\n",
       "     'GeometryOffset': 7,\n",
       "     'StartPosition': [12.46419, 41.90715]},\n",
       "    {'Distance': 0.053,\n",
       "     'DurationSeconds': 35,\n",
       "     'EndPosition': [12.46278, 41.90738],\n",
       "     'GeometryOffset': 9,\n",
       "     'StartPosition': [12.46296, 41.90692]},\n",
       "    {'Distance': 0.191,\n",
       "     'DurationSeconds': 39,\n",
       "     'EndPosition': [12.460599, 41.906843],\n",
       "     'GeometryOffset': 10,\n",
       "     'StartPosition': [12.46278, 41.90738]}]},\n",
       "  {'Distance': 1.09,\n",
       "   'DurationSeconds': 429,\n",
       "   'EndPosition': [12.4630188, 41.9067604],\n",
       "   'Geometry': {'LineString': [[12.460599, 41.906843],\n",
       "     [12.46026, 41.90676],\n",
       "     [12.45966, 41.90661],\n",
       "     [12.45921, 41.9065],\n",
       "     [12.45907, 41.90647],\n",
       "     [12.45897, 41.90645],\n",
       "     [12.45884, 41.90643],\n",
       "     [12.45872, 41.90642],\n",
       "     [12.45861, 41.90642],\n",
       "     [12.45842, 41.90643],\n",
       "     [12.45781, 41.90648],\n",
       "     [12.45672, 41.90656],\n",
       "     [12.45669, 41.9063],\n",
       "     [12.45668, 41.90616],\n",
       "     [12.45777, 41.90592],\n",
       "     [12.45795, 41.90588],\n",
       "     [12.45811, 41.90585],\n",
       "     [12.45826, 41.90583],\n",
       "     [12.45843, 41.90581],\n",
       "     [12.45857, 41.9058],\n",
       "     [12.45882, 41.90579],\n",
       "     [12.45881, 41.90595],\n",
       "     [12.45881, 41.90602],\n",
       "     [12.45881, 41.90609],\n",
       "     [12.45907, 41.90607],\n",
       "     [12.45976, 41.90601],\n",
       "     [12.46021, 41.90597],\n",
       "     [12.46124, 41.90589],\n",
       "     [12.46197, 41.90585],\n",
       "     [12.46215, 41.90584],\n",
       "     [12.46267, 41.90581],\n",
       "     [12.46307, 41.90578],\n",
       "     [12.46322, 41.90577],\n",
       "     [12.4634, 41.90576],\n",
       "     [12.46338, 41.90583],\n",
       "     [12.46335, 41.90592],\n",
       "     [12.46332, 41.906],\n",
       "     [12.46323, 41.90621],\n",
       "     [12.46316, 41.90638],\n",
       "     [12.4631, 41.90654],\n",
       "     [12.463019, 41.90676]]},\n",
       "   'StartPosition': [12.4605994, 41.9068425],\n",
       "   'Steps': [{'Distance': 0.154,\n",
       "     'DurationSeconds': 55,\n",
       "     'EndPosition': [12.45884, 41.90643],\n",
       "     'GeometryOffset': 0,\n",
       "     'StartPosition': [12.460599, 41.906843]},\n",
       "    {'Distance': 0.177,\n",
       "     'DurationSeconds': 130,\n",
       "     'EndPosition': [12.45672, 41.90656],\n",
       "     'GeometryOffset': 6,\n",
       "     'StartPosition': [12.45884, 41.90643]},\n",
       "    {'Distance': 0.045,\n",
       "     'DurationSeconds': 26,\n",
       "     'EndPosition': [12.45668, 41.90616],\n",
       "     'GeometryOffset': 11,\n",
       "     'StartPosition': [12.45672, 41.90656]},\n",
       "    {'Distance': 0.182,\n",
       "     'DurationSeconds': 46,\n",
       "     'EndPosition': [12.45882, 41.90579],\n",
       "     'GeometryOffset': 13,\n",
       "     'StartPosition': [12.45668, 41.90616]},\n",
       "    {'Distance': 0.033,\n",
       "     'DurationSeconds': 12,\n",
       "     'EndPosition': [12.45881, 41.90609],\n",
       "     'GeometryOffset': 20,\n",
       "     'StartPosition': [12.45882, 41.90579]},\n",
       "    {'Distance': 0.384,\n",
       "     'DurationSeconds': 128,\n",
       "     'EndPosition': [12.4634, 41.90576],\n",
       "     'GeometryOffset': 23,\n",
       "     'StartPosition': [12.45881, 41.90609]},\n",
       "    {'Distance': 0.115,\n",
       "     'DurationSeconds': 32,\n",
       "     'EndPosition': [12.463019, 41.90676],\n",
       "     'GeometryOffset': 33,\n",
       "     'StartPosition': [12.4634, 41.90576]}]},\n",
       "  {'Distance': 0.717,\n",
       "   'DurationSeconds': 206,\n",
       "   'EndPosition': [12.4622294, 41.9066649],\n",
       "   'Geometry': {'LineString': [[12.463019, 41.90676],\n",
       "     [12.46296, 41.90692],\n",
       "     [12.46278, 41.90738],\n",
       "     [12.4633, 41.90751],\n",
       "     [12.46394, 41.90767],\n",
       "     [12.46419, 41.90715],\n",
       "     [12.46439, 41.90664],\n",
       "     [12.46461, 41.90617],\n",
       "     [12.46477, 41.90565],\n",
       "     [12.46421, 41.9057],\n",
       "     [12.46381, 41.90573],\n",
       "     [12.4634, 41.90576],\n",
       "     [12.46322, 41.90577],\n",
       "     [12.46307, 41.90578],\n",
       "     [12.46267, 41.90581],\n",
       "     [12.46215, 41.90584],\n",
       "     [12.46221, 41.90647],\n",
       "     [12.462229, 41.906665]]},\n",
       "   'StartPosition': [12.4630188, 41.9067604],\n",
       "   'Steps': [{'Distance': 0.071,\n",
       "     'DurationSeconds': 24,\n",
       "     'EndPosition': [12.46278, 41.90738],\n",
       "     'GeometryOffset': 0,\n",
       "     'StartPosition': [12.463019, 41.90676]},\n",
       "    {'Distance': 0.102,\n",
       "     'DurationSeconds': 43,\n",
       "     'EndPosition': [12.46394, 41.90767],\n",
       "     'GeometryOffset': 2,\n",
       "     'StartPosition': [12.46278, 41.90738]},\n",
       "    {'Distance': 0.234,\n",
       "     'DurationSeconds': 63,\n",
       "     'EndPosition': [12.46477, 41.90565],\n",
       "     'GeometryOffset': 4,\n",
       "     'StartPosition': [12.46394, 41.90767]},\n",
       "    {'Distance': 0.218,\n",
       "     'DurationSeconds': 58,\n",
       "     'EndPosition': [12.46215, 41.90584],\n",
       "     'GeometryOffset': 8,\n",
       "     'StartPosition': [12.46477, 41.90565]},\n",
       "    {'Distance': 0.092,\n",
       "     'DurationSeconds': 18,\n",
       "     'EndPosition': [12.462229, 41.906665],\n",
       "     'GeometryOffset': 15,\n",
       "     'StartPosition': [12.46215, 41.90584]}]},\n",
       "  {'Distance': 0.824,\n",
       "   'DurationSeconds': 238,\n",
       "   'EndPosition': [12.4613328, 41.9066519],\n",
       "   'Geometry': {'LineString': [[12.462229, 41.906665],\n",
       "     [12.46226, 41.90697],\n",
       "     [12.46229, 41.90726],\n",
       "     [12.46278, 41.90738],\n",
       "     [12.4633, 41.90751],\n",
       "     [12.46394, 41.90767],\n",
       "     [12.46419, 41.90715],\n",
       "     [12.46439, 41.90664],\n",
       "     [12.46461, 41.90617],\n",
       "     [12.46477, 41.90565],\n",
       "     [12.46421, 41.9057],\n",
       "     [12.46381, 41.90573],\n",
       "     [12.4634, 41.90576],\n",
       "     [12.46322, 41.90577],\n",
       "     [12.46307, 41.90578],\n",
       "     [12.46267, 41.90581],\n",
       "     [12.46215, 41.90584],\n",
       "     [12.46197, 41.90585],\n",
       "     [12.46124, 41.90589],\n",
       "     [12.46131, 41.90642],\n",
       "     [12.461333, 41.906652]]},\n",
       "   'StartPosition': [12.4622294, 41.9066649],\n",
       "   'Steps': [{'Distance': 0.066,\n",
       "     'DurationSeconds': 27,\n",
       "     'EndPosition': [12.46229, 41.90726],\n",
       "     'GeometryOffset': 0,\n",
       "     'StartPosition': [12.462229, 41.906665]},\n",
       "    {'Distance': 0.145,\n",
       "     'DurationSeconds': 57,\n",
       "     'EndPosition': [12.46394, 41.90767],\n",
       "     'GeometryOffset': 2,\n",
       "     'StartPosition': [12.46229, 41.90726]},\n",
       "    {'Distance': 0.234,\n",
       "     'DurationSeconds': 63,\n",
       "     'EndPosition': [12.46477, 41.90565],\n",
       "     'GeometryOffset': 5,\n",
       "     'StartPosition': [12.46394, 41.90767]},\n",
       "    {'Distance': 0.294,\n",
       "     'DurationSeconds': 74,\n",
       "     'EndPosition': [12.46124, 41.90589],\n",
       "     'GeometryOffset': 9,\n",
       "     'StartPosition': [12.46477, 41.90565]},\n",
       "    {'Distance': 0.085,\n",
       "     'DurationSeconds': 17,\n",
       "     'EndPosition': [12.461333, 41.906652],\n",
       "     'GeometryOffset': 18,\n",
       "     'StartPosition': [12.46124, 41.90589]}]}],\n",
       " 'Summary': {'DataSource': 'Here',\n",
       "  'Distance': 3.31,\n",
       "  'DistanceUnit': 'Kilometers',\n",
       "  'DurationSeconds': 1103,\n",
       "  'RouteBBox': [12.45668, 41.90565, 12.46477, 41.90767]}}"
      ]
     },
     "execution_count": 18,
     "metadata": {},
     "output_type": "execute_result"
    }
   ],
   "source": [
    "response"
   ]
  },
  {
   "cell_type": "markdown",
   "id": "e282ca65",
   "metadata": {},
   "source": [
    "Extract paths from the overall route to be able to render them on Map"
   ]
  },
  {
   "cell_type": "code",
   "execution_count": 19,
   "id": "66aa7d80",
   "metadata": {
    "scrolled": true
   },
   "outputs": [],
   "source": [
    "path=[]\n",
    "for leg in response['Legs']:\n",
    "    path.append ([leg['StartPosition'][0],leg['StartPosition'][1]])\n",
    "    for poi in leg['Geometry']['LineString']:\n",
    "        path.append ([poi[0],poi[1]])\n",
    "    \n"
   ]
  },
  {
   "cell_type": "markdown",
   "id": "a1816ef0",
   "metadata": {},
   "source": [
    "## Visualize the results.  \n",
    "\n",
    "We will use IPython and Amazon Location Services to visualize the output leveraging a template html page that will load all the relevant javascript libraries, then we customize this teplate in order to add all the information data we would like to display, and then we use IFrame to render the generated html file."
   ]
  },
  {
   "cell_type": "code",
   "execution_count": 22,
   "id": "fd7803fa",
   "metadata": {
    "tags": []
   },
   "outputs": [
    {
     "data": {
      "text/html": [
       "\n",
       "        <iframe\n",
       "            width=\"800\"\n",
       "            height=\"500\"\n",
       "            src=\"./locationservice-pages/location_service.html\"\n",
       "            frameborder=\"0\"\n",
       "            allowfullscreen\n",
       "            \n",
       "        ></iframe>\n",
       "        "
      ],
      "text/plain": [
       "<IPython.lib.display.IFrame at 0x7fb84e092750>"
      ]
     },
     "execution_count": 22,
     "metadata": {},
     "output_type": "execute_result"
    }
   ],
   "source": [
    "from IPython.display import IFrame\n",
    "import json\n",
    "\n",
    "Zoom=16\n",
    " \n",
    "#Transform python variables into json srtings\n",
    "jsonPointOfInterest=json.dumps(PointOfInterest)\n",
    "jsonOptimized_path=json.dumps(optimized_path)\n",
    "jsonPath=json.dumps(path)\n",
    "def get_credentials( role):\n",
    "    sts_client = boto3.client(\"sts\")\n",
    "\n",
    "    role_arn = role\n",
    "    role_session_name = \"MAPS\"\n",
    "\n",
    "    resp = sts_client.assume_role(\n",
    "        RoleArn=role_arn,\n",
    "        RoleSessionName=role_session_name\n",
    "    )\n",
    "\n",
    "    return resp[\"Credentials\"]\n",
    "\n",
    "credentials=get_credentials(role)\n",
    "\n",
    "jsonPointOfInterest=json.dumps(PointOfInterest)\n",
    "jsonOptimized_path=json.dumps(optimized_path)\n",
    "jsonPath=json.dumps (path)\n",
    "\n",
    "\n",
    "with open (\"./locationservice-pages/all-in-one.html_template\") as template:\n",
    "    html_template=template.read()\n",
    "    \n",
    "with open (\"./locationservice-pages/all-in-one.html\",\"w\") as page:\n",
    "    html_page=html_template.format(mapName=locationMapName,\n",
    "                                   accessKeyId=credentials['AccessKeyId'],\n",
    "                                   secretAccessKey=credentials['SecretAccessKey'],\n",
    "                                   sessionToken=credentials['SessionToken'],\n",
    "                                   center =json.dumps([PointOfInterest[optimized_path[0]][0],PointOfInterest[optimized_path[0]][1]]),\n",
    "                                   jsonPointOfInterest=jsonPointOfInterest,\n",
    "                                   jsonOptimized_path=jsonOptimized_path,\n",
    "                                   jsonPath=jsonPath,\n",
    "                                   region=my_region,\n",
    "                                   zoom=Zoom\n",
    "                                   )\n",
    "    page.write(html_page)\n",
    "    \n",
    "IFrame(src='./locationservice-pages/all-in-one.html', width=800, height=500)"
   ]
  },
  {
   "cell_type": "markdown",
   "id": "13c75384-a66c-4284-830b-18151a375563",
   "metadata": {},
   "source": [
    "## Create an API endpoint to expose Inference endpoint to the front-end application.\n",
    "The next step is related to create an API Gateway to expose the service to our font-end application, the API Gateway will call a lambda function that is interacting with location service to prepare the distance matrix and call Sagemaker endpoint to execute the inference.\n",
    "Hereafter the name of the Sagemaker Endpoint to input in cloudformation template to build API Gateway and lambda components."
   ]
  },
  {
   "cell_type": "code",
   "execution_count": 28,
   "id": "ac043405-e0e5-4b90-be1d-6b3872ed56a2",
   "metadata": {},
   "outputs": [
    {
     "data": {
      "text/plain": [
       "'RouteOptimiser-20221021-155050-2022-10-21-15-50-56-575'"
      ]
     },
     "execution_count": 28,
     "metadata": {},
     "output_type": "execute_result"
    }
   ],
   "source": [
    "predictor.endpoint_name"
   ]
  },
  {
   "cell_type": "code",
   "execution_count": null,
   "id": "5b3ced06-5a9d-4d3a-b56f-6bdb07203d91",
   "metadata": {},
   "outputs": [],
   "source": []
  },
  {
   "cell_type": "markdown",
   "id": "c8d532d6-ed72-4b57-a7be-31f0ce549fc3",
   "metadata": {},
   "source": [
    "## Let's build our webapp\n",
    "We are now ready to build our Web App leveraging amplify"
   ]
  },
  {
   "cell_type": "code",
   "execution_count": null,
   "id": "82e0a8d5-cea3-4a6d-93f6-86a176f3456e",
   "metadata": {},
   "outputs": [],
   "source": [
    "raise Exception (\"Execute the following step after testing the web app.\")"
   ]
  },
  {
   "cell_type": "markdown",
   "id": "691f5dfe",
   "metadata": {},
   "source": [
    "## Cleanup\n",
    "\n",
    "Delete API Gateway, predictor endpoint and location service map and route calculator, sagemaker model and content of S3 bucket. "
   ]
  },
  {
   "cell_type": "code",
   "execution_count": null,
   "id": "2093d99a",
   "metadata": {},
   "outputs": [],
   "source": [
    "predictor.delete_endpoint()"
   ]
  },
  {
   "cell_type": "code",
   "execution_count": null,
   "id": "76aa4665-35a9-483b-942c-3236b6fb4979",
   "metadata": {},
   "outputs": [],
   "source": [
    "!aws sagemaker delete-model --model-name {modelName}"
   ]
  },
  {
   "cell_type": "code",
   "execution_count": null,
   "id": "722f2f6f-367d-4426-8cab-1e4c4ad4c329",
   "metadata": {},
   "outputs": [],
   "source": [
    "!aws s3 rm s3://{bucket}/{prefix} --recursive"
   ]
  },
  {
   "cell_type": "markdown",
   "id": "c86e098f-a4b2-4053-8898-aa5d32a577bd",
   "metadata": {},
   "source": [
    "You can now click on \"Running Terminals and Kernels\" on the left of the screen and terminate the instance running this notebook to avoid incurring in unexpected costs."
   ]
  },
  {
   "attachments": {
    "3273430a-98ef-4e41-9a00-9ce0458bf8e3.png": {
     "image/png": "[encoded data removed]"
    }
   },
   "cell_type": "markdown",
   "id": "3d823176-55b7-46fe-9812-f7d96b623439",
   "metadata": {},
   "source": [
    "![image.png](attachment:3273430a-98ef-4e41-9a00-9ce0458bf8e3.png)"
   ]
  }
 ],
 "metadata": {
  "instance_type": "ml.t3.medium",
  "kernelspec": {
   "display_name": "Python 3 (Data Science)",
   "language": "python",
   "name": "python3__SAGEMAKER_INTERNAL__arn:aws:sagemaker:eu-west-1:470317259841:image/datascience-1.0"
  },
  "language_info": {
   "codemirror_mode": {
    "name": "ipython",
    "version": 3
   },
   "file_extension": ".py",
   "mimetype": "text/x-python",
   "name": "python",
   "nbconvert_exporter": "python",
   "pygments_lexer": "ipython3",
   "version": "3.7.10"
  }
 },
 "nbformat": 4,
 "nbformat_minor": 5
}
